{
 "cells": [
  {
   "cell_type": "markdown",
   "metadata": {},
   "source": [
    "# Gradient Descent Variations Example"
   ]
  },
  {
   "cell_type": "code",
   "execution_count": null,
   "metadata": {},
   "outputs": [],
   "source": [
    "import numpy as np\n",
    "import matplotlib.pyplot as plt\n",
    "from sklearn.datasets import make_regression\n",
    "from sklearn.model_selection import train_test_split\n",
    "from sklearn.preprocessing import StandardScaler\n",
    "from gradient_descent import GradientDescent"
   ]
  },
  {
   "cell_type": "code",
   "execution_count": null,
   "metadata": {},
   "outputs": [],
   "source": [
    "# Generate sample data\n",
    "X, y = make_regression(n_samples=1000, n_features=1, noise=10, random_state=42)\n",
    "X_train, X_test, y_train, y_test = train_test_split(X, y, test_size=0.2, random_state=42)\n",
    "\n",
    "# Scale the features\n",
    "scaler = StandardScaler()\n",
    "X_train_scaled = scaler.fit_transform(X_train)\n",
    "X_test_scaled = scaler.transform(X_test)\n",
    "\n",
    "# Add bias term\n",
    "X_train_scaled = np.c_[np.ones(X_train_scaled.shape[0]), X_train_scaled]\n",
    "X_test_scaled = np.c_[np.ones(X_test_scaled.shape[0]), X_test_scaled]"
   ]
  },
  {
   "cell_type": "code",
   "execution_count": null,
   "metadata": {},
   "outputs": [],
   "source": [
    "# Compare different gradient descent methods\n",
    "methods = ['batch', 'stochastic', 'mini_batch']\n",
    "colors = ['r', 'g', 'b']\n",
    "\n",
    "plt.figure(figsize=(12, 8))\n",
    "\n",
    "for method, color in zip(methods, colors):\n",
    "    gd = GradientDescent(learning_rate=0.1, max_iterations=1000)\n",
    "    theta, cost_history = gd.fit(X_train_scaled, y_train, method=method)\n",
    "    \n",
    "    plt.plot(range(len(cost_history)), cost_history, color=color, label=method)\n",
    "    \n",
    "    y_pred = gd.predict(X_test_scaled)\n",
    "    mse = np.mean((y_test - y_pred) ** 2)\n",
    "    print(f\"{method.capitalize()} Gradient Descent MSE: {mse:.4f}\")\n",
    "\n",
    "plt.xlabel('Iterations')\n",
    "plt.ylabel('Cost')\n",
    "plt.title('Gradient Descent Variations Comparison')\n",
    "plt.legend()\n",
    "plt.show()"
   ]
  },
  {
   "cell_type": "code",
   "execution_count": null,
   "metadata": {},
   "outputs": [],
   "source": [
    "# Visualize the regression results\n",
    "plt.figure(figsize=(12, 8))\n",
    "plt.scatter(X_test, y_test, color='b', label='Test data')\n",
    "\n",
    "for method, color in zip(methods, colors):\n",
    "    gd = GradientDescent(learning_rate=0.1, max_iterations=1000)\n",
    "    theta, _ = gd.fit(X_train_scaled, y_train, method=method)\n",
    "    y_pred = gd.predict(X_test_scaled)\n",
    "    \n",
    "    plt.plot(X_test, y_pred, color=color, label=f'{method} prediction')\n",
    "\n",
    "plt.xlabel('X')\n",
    "plt.ylabel('y')\n",
    "plt.title('Gradient Descent Regression Comparison')\n",
    "plt.legend()\n",
    "plt.show()"
   ]
  },
  {
   "cell_type": "code",
   "execution_count": null,
   "metadata": {},
   "outputs": [],
   "source": [
    "# Compare convergence speed with different learning rates\n",
    "learning_rates = [0.001, 0.01, 0.1, 1.0]\n",
    "colors = ['r', 'g', 'b', 'y']\n",
    "\n",
    "plt.figure(figsize=(12, 8))\n",
    "\n",
    "for lr, color in zip(learning_rates, colors):\n",
    "    gd = GradientDescent(learning_rate=lr, max_iterations=1000)\n",
    "    _, cost_history = gd.fit(X_train_scaled, y_train, method='batch')\n",
    "    \n",
    "    plt.plot(range(len(cost_history)), cost_history, color=color, label=f'Learning rate: {lr}')\n",
    "\n",
    "plt.xlabel('Iterations')\n",
    "plt.ylabel('Cost')\n",
    "plt.title('Gradient Descent Convergence with Different Learning Rates')\n",
    "plt.legend()\n",
    "plt.show()"
   ]
  }
 ],
 "metadata": {
  "kernelspec": {
   "display_name": "Python 3",
   "language": "python",
   "name": "python3"
  },
  "language_info": {
   "codemirror_mode": {
    "name": "ipython",
    "version": 3
   },
   "file_extension": ".py",
   "mimetype": "text/x-python",
   "name": "python",
   "nbconvert_exporter": "python",
   "pygments_lexer": "ipython3",
   "version": "3.8.5"
  }
 },
 "nbformat": 4,
 "nbformat_minor": 4
}