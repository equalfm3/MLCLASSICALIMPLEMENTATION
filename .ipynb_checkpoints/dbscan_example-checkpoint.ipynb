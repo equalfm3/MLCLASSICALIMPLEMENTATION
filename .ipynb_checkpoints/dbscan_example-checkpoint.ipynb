{
 "cells": [
  {
   "cell_type": "code",
   "execution_count": null,
   "metadata": {},
   "outputs": [],
   "source": [
    "import numpy as np\n",
    "import matplotlib.pyplot as plt\n",
    "from sklearn.datasets import make_moons\n",
    "from dbscan import DBSCAN\n",
    "\n",
    "# Generate sample data\n",
    "X, _ = make_moons(n_samples=300, noise=0.1, random_state=42)\n",
    "\n",
    "# Apply DBSCAN\n",
    "dbscan = DBSCAN(eps=0.3, min_samples=5)\n",
    "labels = dbscan.fit_predict(X)\n",
    "\n",
    "# Plot the results\n",
    "plt.figure(figsize=(10, 6))\n",
    "scatter = plt.scatter(X[:, 0], X[:, 1], c=labels, cmap='viridis')\n",
    "plt.colorbar(scatter)\n",
    "plt.title('DBSCAN Clustering')\n",
    "plt.xlabel('Feature 1')\n",
    "plt.ylabel('Feature 2')\n",
    "plt.show()\n",
    "\n",
    "# Print number of clusters found\n",
    "n_clusters = len(set(labels)) - (1 if -1 in labels else 0)\n",
    "print(f'Number of clusters found: {n_clusters}')\n",
    "print(f'Number of noise points: {list(labels).count(-1)}')"
   ]
  }
 ],
 "metadata": {
  "kernelspec": {
   "display_name": "Python 3",
   "language": "python",
   "name": "python3"
  },
  "language_info": {
   "codemirror_mode": {
    "name": "ipython",
    "version": 3
   },
   "file_extension": ".py",
   "mimetype": "text/x-python",
   "name": "python",
   "nbconvert_exporter": "python",
   "pygments_lexer": "ipython3",
   "version": "3.8.5"
  }
 },
 "nbformat": 4,
 "nbformat_minor": 4
}