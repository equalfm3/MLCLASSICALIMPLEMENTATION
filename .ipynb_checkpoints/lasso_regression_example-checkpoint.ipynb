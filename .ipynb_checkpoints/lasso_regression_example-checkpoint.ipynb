{
 "cells": [
  {
   "cell_type": "code",
   "execution_count": null,
   "metadata": {},
   "outputs": [],
   "source": [
    "import numpy as np\n",
    "import matplotlib.pyplot as plt\n",
    "from sklearn.datasets import make_regression\n",
    "from sklearn.model_selection import train_test_split\n",
    "from lasso_regression import LassoRegression\n",
    "\n",
    "# Generate sample data\n",
    "X, y = make_regression(n_samples=100, n_features=20, n_informative=5, noise=10, random_state=42)\n",
    "\n",
    "# Split the data\n",
    "X_train, X_test, y_train, y_test = train_test_split(X, y, test_size=0.2, random_state=42)\n",
    "\n",
    "# Fit Lasso Regression with different alpha values\n",
    "alphas = [0.1, 1, 10, 100]\n",
    "models = [LassoRegression(alpha=alpha) for alpha in alphas]\n",
    "\n",
    "plt.figure(figsize=(12, 8))\n",
    "for i, (model, alpha) in enumerate(zip(models, alphas)):\n",
    "    model.fit(X_train, y_train)\n",
    "    score = model.score(X_test, y_test)\n",
    "    \n",
    "    plt.subplot(2, 2, i+1)\n",
    "    plt.stem(range(20), model.coef_)\n",
    "    plt.title(f'Alpha = {alpha}, R² = {score:.3f}')\n",
    "    plt.xlabel('Feature')\n",
    "    plt.ylabel('Coefficient')\n",
    "\n",
    "plt.tight_layout()\n",
    "plt.show()\n",
    "\n",
    "# Print non-zero coefficients and intercepts\n",
    "for model, alpha in zip(models, alphas):\n",
    "    print(f'Alpha = {alpha}:')\n",
    "    non_zero = np.nonzero(model.coef_)[0]\n",
    "    print(f'  Non-zero coefficients: {len(non_zero)}')\n",
    "    print(f'  Non-zero features: {non_zero}')\n",
    "    print(f'  Intercept: {model.intercept_:.4f}')\n",
    "    print(f'  R² Score: {model.score(X_test, y_test):.4f}')\n",
    "    print()"
   ]
  }
 ],
 "metadata": {
  "kernelspec": {
   "display_name": "Python 3",
   "language": "python",
   "name": "python3"
  },
  "language_info": {
   "codemirror_mode": {
    "name": "ipython",
    "version": 3
   },
   "file_extension": ".py",
   "mimetype": "text/x-python",
   "name": "python",
   "nbconvert_exporter": "python",
   "pygments_lexer": "ipython3",
   "version": "3.8.5"
  }
 },
 "nbformat": 4,
 "nbformat_minor": 4
}