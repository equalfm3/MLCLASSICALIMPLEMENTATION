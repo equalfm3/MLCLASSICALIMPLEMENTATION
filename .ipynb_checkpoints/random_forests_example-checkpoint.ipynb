{
 "cells": [
  {
   "cell_type": "markdown",
   "metadata": {},
   "source": [
    "# Random Forests Example"
   ]
  },
  {
   "cell_type": "code",
   "execution_count": null,
   "metadata": {},
   "outputs": [],
   "source": [
    "import numpy as np\n",
    "import matplotlib.pyplot as plt\n",
    "from sklearn.datasets import make_classification\n",
    "from sklearn.model_selection import train_test_split\n",
    "from random_forests import RandomForest\n",
    "\n",
    "# Generate sample data\n",
    "X, y = make_classification(n_samples=1000, n_features=10, n_informative=5, n_redundant=5,\n",
    "                           random_state=1, n_clusters_per_class=2)\n",
    "\n",
    "# Split the data into training and testing sets\n",
    "X_train, X_test, y_train, y_test = train_test_split(X, y, test_size=0.2, random_state=42)\n",
    "\n",
    "# Create and train the model\n",
    "model = RandomForest(n_trees=10, max_depth=5)\n",
    "model.fit(X_train, y_train)\n",
    "\n",
    "# Make predictions\n",
    "y_pred_train = model.predict(X_train)\n",
    "y_pred_test = model.predict(X_test)\n",
    "\n",
    "# Calculate scores\n",
    "train_accuracy = model.score(X_train, y_train)\n",
    "test_accuracy = model.score(X_test, y_test)\n",
    "\n",
    "print(f\"Train Accuracy: {train_accuracy:.4f}\")\n",
    "print(f\"Test Accuracy: {test_accuracy:.4f}\")\n",
    "\n",
    "# Plot feature importance\n",
    "def plot_feature_importance(X, y, model):\n",
    "    importances = np.zeros(X.shape[1])\n",
    "    for tree in model.trees:\n",
    "        importances += compute_feature_importance(tree.root, X.shape[1])\n",
    "    importances /= model.n_trees\n",
    "    \n",
    "    indices = np.argsort(importances)[::-1]\n",
    "    plt.figure(figsize=(10, 6))\n",
    "    plt.title(\"Feature Importances\")\n",
    "    plt.bar(range(X.shape[1]), importances[indices])\n",
    "    plt.xticks(range(X.shape[1]), indices)\n",
    "    plt.xlabel(\"Feature Index\")\n",
    "    plt.ylabel(\"Importance\")\n",
    "    plt.show()\n",
    "\n",
    "def compute_feature_importance(node, n_features, importance=None):\n",
    "    if importance is None:\n",
    "        importance = np.zeros(n_features)\n",
    "    \n",
    "    if node.feature is not None:\n",
    "        importance[node.feature] += 1\n",
    "        if node.left:\n",
    "            compute_feature_importance(node.left, n_features, importance)\n",
    "        if node.right:\n",
    "            compute_feature_importance(node.right, n_features, importance)\n",
    "    \n",
    "    return importance\n",
    "\n",
    "plot_feature_importance(X, y, model)"
   ]
  }
 ],
 "metadata": {
  "kernelspec": {
   "display_name": "Python 3",
   "language": "python",
   "name": "python3"
  },
  "language_info": {
   "codemirror_mode": {
    "name": "ipython",
    "version": 3
   },
   "file_extension": ".py",
   "mimetype": "text/x-python",
   "name": "python",
   "nbconvert_exporter": "python",
   "pygments_lexer": "ipython3",
   "version": "3.8.5"
  }
 },
 "nbformat": 4,
 "nbformat_minor": 4
}