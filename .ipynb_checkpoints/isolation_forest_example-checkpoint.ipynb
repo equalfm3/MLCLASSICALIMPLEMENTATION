{
 "cells": [
  {
   "cell_type": "code",
   "execution_count": null,
   "metadata": {},
   "outputs": [],
   "source": [
    "import numpy as np\n",
    "import matplotlib.pyplot as plt\n",
    "from sklearn.datasets import make_blobs\n",
    "from isolation_forest import IsolationForest\n",
    "\n",
    "# Generate sample data\n",
    "n_samples = 300\n",
    "outliers_fraction = 0.15\n",
    "n_outliers = int(outliers_fraction * n_samples)\n",
    "n_inliers = n_samples - n_outliers\n",
    "\n",
    "X, _ = make_blobs(centers=[[0, 0], [0, 0]], cluster_std=0.5,\n",
    "                  random_state=42, n_samples=n_inliers)\n",
    "\n",
    "# Generate outliers\n",
    "rng = np.random.RandomState(42)\n",
    "X = np.concatenate([X, rng.uniform(low=-6, high=6, size=(n_outliers, 2))], axis=0)\n",
    "\n",
    "# Fit Isolation Forest\n",
    "clf = IsolationForest(contamination=outliers_fraction, random_state=42)\n",
    "clf.fit(X)\n",
    "\n",
    "# Predict anomalies\n",
    "y_pred = clf.predict(X)\n",
    "\n",
    "# Plot the results\n",
    "plt.figure(figsize=(10, 7))\n",
    "plt.scatter(X[y_pred == 1, 0], X[y_pred == 1, 1], c='blue', label='Normal')\n",
    "plt.scatter(X[y_pred == -1, 0], X[y_pred == -1, 1], c='red', label='Anomaly')\n",
    "plt.title('Isolation Forest Anomaly Detection')\n",
    "plt.xlabel('Feature 1')\n",
    "plt.ylabel('Feature 2')\n",
    "plt.legend()\n",
    "plt.show()\n",
    "\n",
    "print(f'Number of detected anomalies: {np.sum(y_pred == -1)}')\n",
    "print(f'Number of detected normal points: {np.sum(y_pred == 1)}')"
   ]
  }
 ],
 "metadata": {
  "kernelspec": {
   "display_name": "Python 3",
   "language": "python",
   "name": "python3"
  },
  "language_info": {
   "codemirror_mode": {
    "name": "ipython",
    "version": 3
   },
   "file_extension": ".py",
   "mimetype": "text/x-python",
   "name": "python",
   "nbconvert_exporter": "python",
   "pygments_lexer": "ipython3",
   "version": "3.8.5"
  }
 },
 "nbformat": 4,
 "nbformat_minor": 4
}