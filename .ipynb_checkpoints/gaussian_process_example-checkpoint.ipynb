{
 "cells": [
  {
   "cell_type": "markdown",
   "metadata": {},
   "source": [
    "# Gaussian Process Regressor Example"
   ]
  },
  {
   "cell_type": "code",
   "execution_count": null,
   "metadata": {},
   "outputs": [],
   "source": [
    "import numpy as np\n",
    "import matplotlib.pyplot as plt\n",
    "from sklearn.model_selection import train_test_split\n",
    "from sklearn.preprocessing import StandardScaler\n",
    "from gaussian_process import GaussianProcessRegressor"
   ]
  },
  {
   "cell_type": "code",
   "execution_count": null,
   "metadata": {},
   "outputs": [],
   "source": [
    "# Generate sample data\n",
    "def f(x):\n",
    "    return np.sin(x) + 0.1 * np.cos(10*x)\n",
    "\n",
    "X = np.linspace(0, 10, 100).reshape(-1, 1)\n",
    "y = f(X) + 0.1 * np.random.randn(100, 1)\n",
    "\n",
    "X_train, X_test, y_train, y_test = train_test_split(X, y, test_size=0.2, random_state=42)\n",
    "\n",
    "# Scale the features\n",
    "scaler = StandardScaler()\n",
    "X_train_scaled = scaler.fit_transform(X_train)\n",
    "X_test_scaled = scaler.transform(X_test)"
   ]
  },
  {
   "cell_type": "code",
   "execution_count": null,
   "metadata": {},
   "outputs": [],
   "source": [
    "# Train Gaussian Process model\n",
    "gp = GaussianProcessRegressor()\n",
    "gp.fit(X_train_scaled, y_train)\n",
    "\n",
    "# Make predictions\n",
    "X_plot = np.linspace(0, 10, 500).reshape(-1, 1)\n",
    "X_plot_scaled = scaler.transform(X_plot)\n",
    "y_pred, sigma = gp.predict(X_plot_scaled, return_std=True)\n",
    "\n",
    "# Plot results\n",
    "plt.figure(figsize=(12, 6))\n",
    "plt.plot(X, y, 'b.', label='Observations')\n",
    "plt.plot(X_plot, y_pred, 'r-', label='Prediction')\n",
    "plt.fill_between(X_plot.ravel(), \n",
    "                 y_pred.ravel() - 1.96 * sigma, \n",
    "                 y_pred.ravel() + 1.96 * sigma, \n",
    "                 alpha=0.2, color='r', label='95% confidence interval')\n",
    "plt.legend()\n",
    "plt.xlabel('X')\n",
    "plt.ylabel('y')\n",
    "plt.title('Gaussian Process Regression')\n",
    "plt.show()"
   ]
  },
  {
   "cell_type": "code",
   "execution_count": null,
   "metadata": {},
   "outputs": [],
   "source": [
    "# Compare with sklearn's GaussianProcessRegressor\n",
    "from sklearn.gaussian_process import GaussianProcessRegressor as SKGaussianProcessRegressor\n",
    "from sklearn.gaussian_process.kernels import RBF, WhiteKernel\n",
    "\n",
    "sk_kernel = RBF() + WhiteKernel()\n",
    "sk_gp = SKGaussianProcessRegressor(kernel=sk_kernel, n_restarts_optimizer=10)\n",
    "sk_gp.fit(X_train_scaled, y_train)\n",
    "\n",
    "sk_y_pred, sk_sigma = sk_gp.predict(X_plot_scaled, return_std=True)\n",
    "\n",
    "# Plot comparison\n",
    "plt.figure(figsize=(12, 6))\n",
    "plt.plot(X, y, 'b.', label='Observations')\n",
    "plt.plot(X_plot, y_pred, 'r-', label='Our GP Prediction')\n",
    "plt.plot(X_plot, sk_y_pred, 'g-', label='Sklearn GP Prediction')\n",
    "plt.fill_between(X_plot.ravel(), \n",
    "                 y_pred.ravel() - 1.96 * sigma, \n",
    "                 y_pred.ravel() + 1.96 * sigma, \n",
    "                 alpha=0.1, color='r', label='Our GP 95% CI')\n",
    "plt.fill_between(X_plot.ravel(), \n",
    "                 sk_y_pred - 1.96 * sk_sigma, \n",
    "                 sk_y_pred + 1.96 * sk_sigma, \n",
    "                 alpha=0.1, color='g', label='Sklearn GP 95% CI')\n",
    "plt.legend()\n",
    "plt.xlabel('X')\n",
    "plt.ylabel('y')\n",
    "plt.title('Gaussian Process Regression Comparison')\n",
    "plt.show()"
   ]
  }
 ],
 "metadata": {
  "kernelspec": {
   "display_name": "Python 3",
   "language": "python",
   "name": "python3"
  },
  "language_info": {
   "codemirror_mode": {
    "name": "ipython",
    "version": 3
   },
   "file_extension": ".py",
   "mimetype": "text/x-python",
   "name": "python",
   "nbconvert_exporter": "python",
   "pygments_lexer": "ipython3",
   "version": "3.8.5"
  }
 },
 "nbformat": 4,
 "nbformat_minor": 4
}