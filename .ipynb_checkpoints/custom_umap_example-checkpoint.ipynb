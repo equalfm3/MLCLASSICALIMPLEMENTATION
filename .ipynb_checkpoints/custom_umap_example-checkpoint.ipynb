{
 "cells": [
  {
   "cell_type": "code",
   "execution_count": null,
   "metadata": {},
   "outputs": [],
   "source": [
    "import numpy as np\n",
    "import matplotlib.pyplot as plt\n",
    "from sklearn.datasets import load_digits\n",
    "from custom_umap import CustomUMAP\n",
    "\n",
    "# Load the digits dataset\n",
    "digits = load_digits()\n",
    "X, y = digits.data, digits.target\n",
    "\n",
    "# Create and fit the CustomUMAP model\n",
    "custom_umap_model = CustomUMAP(n_neighbors=15, n_components=2, learning_rate=0.1, n_epochs=200, random_state=42)\n",
    "X_custom_umap = custom_umap_model.fit_transform(X)\n",
    "\n",
    "# Plot the results\n",
    "plt.figure(figsize=(10, 8))\n",
    "scatter = plt.scatter(X_custom_umap[:, 0], X_custom_umap[:, 1], c=y, cmap='Spectral', s=5)\n",
    "plt.colorbar(scatter)\n",
    "plt.title('Custom UMAP projection of the Digits dataset')\n",
    "plt.xlabel('Component 1')\n",
    "plt.ylabel('Component 2')\n",
    "plt.show()\n",
    "\n",
    "# Compare with PCA\n",
    "from sklearn.decomposition import PCA\n",
    "\n",
    "pca = PCA(n_components=2)\n",
    "X_pca = pca.fit_transform(X)\n",
    "\n",
    "plt.figure(figsize=(10, 8))\n",
    "scatter = plt.scatter(X_pca[:, 0], X_pca[:, 1], c=y, cmap='Spectral', s=5)\n",
    "plt.colorbar(scatter)\n",
    "plt.title('PCA projection of the Digits dataset')\n",
    "plt.xlabel('PC 1')\n",
    "plt.ylabel('PC 2')\n",
    "plt.show()"
   ]
  }
 ],
 "metadata": {
  "kernelspec": {
   "display_name": "Python 3",
   "language": "python",
   "name": "python3"
  },
  "language_info": {
   "codemirror_mode": {
    "name": "ipython",
    "version": 3
   },
   "file_extension": ".py",
   "mimetype": "text/x-python",
   "name": "python",
   "nbconvert_exporter": "python",
   "pygments_lexer": "ipython3",
   "version": "3.8.0"
  }
 },
 "nbformat": 4,
 "nbformat_minor": 4
}