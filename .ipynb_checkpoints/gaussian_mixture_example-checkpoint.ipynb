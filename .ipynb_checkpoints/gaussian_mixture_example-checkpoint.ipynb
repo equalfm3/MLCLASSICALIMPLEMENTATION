{
 "cells": [
  {
   "cell_type": "code",
   "execution_count": null,
   "metadata": {},
   "outputs": [],
   "source": [
    "import numpy as np\n",
    "import matplotlib.pyplot as plt\n",
    "from sklearn.datasets import make_blobs\n",
    "from gaussian_mixture import GaussianMixture\n",
    "\n",
    "# Generate sample data\n",
    "X, y_true = make_blobs(n_samples=300, centers=3, cluster_std=[0.5, 1.0, 1.5], random_state=42)\n",
    "\n",
    "# Fit Gaussian Mixture Model\n",
    "gm = GaussianMixture(n_components=3, max_iter=100)\n",
    "gm.fit(X)\n",
    "\n",
    "# Predict clusters\n",
    "y_pred = gm.predict(X)\n",
    "\n",
    "# Plot the results\n",
    "plt.figure(figsize=(12, 5))\n",
    "\n",
    "plt.subplot(121)\n",
    "plt.scatter(X[:, 0], X[:, 1], c=y_true, cmap='viridis')\n",
    "plt.title('True Clusters')\n",
    "plt.xlabel('Feature 1')\n",
    "plt.ylabel('Feature 2')\n",
    "\n",
    "plt.subplot(122)\n",
    "plt.scatter(X[:, 0], X[:, 1], c=y_pred, cmap='viridis')\n",
    "plt.title('Gaussian Mixture Model Clusters')\n",
    "plt.xlabel('Feature 1')\n",
    "plt.ylabel('Feature 2')\n",
    "\n",
    "# Plot the means of the Gaussian components\n",
    "for mean in gm.means_:\n",
    "    plt.plot(mean[0], mean[1], 'r*', markersize=20)\n",
    "\n",
    "plt.tight_layout()\n",
    "plt.show()\n",
    "\n",
    "print(f'Estimated means:\\n{gm.means_}')\n",
    "print(f'Estimated weights: {gm.weights_}')"
   ]
  }
 ],
 "metadata": {
  "kernelspec": {
   "display_name": "Python 3",
   "language": "python",
   "name": "python3"
  },
  "language_info": {
   "codemirror_mode": {
    "name": "ipython",
    "version": 3
   },
   "file_extension": ".py",
   "mimetype": "text/x-python",
   "name": "python",
   "nbconvert_exporter": "python",
   "pygments_lexer": "ipython3",
   "version": "3.8.5"
  }
 },
 "nbformat": 4,
 "nbformat_minor": 4
}