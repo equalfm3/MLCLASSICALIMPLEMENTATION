{
 "cells": [
  {
   "cell_type": "markdown",
   "metadata": {},
   "source": [
    "# Elastic Net Example"
   ]
  },
  {
   "cell_type": "code",
   "execution_count": null,
   "metadata": {},
   "outputs": [],
   "source": [
    "import numpy as np\n",
    "import matplotlib.pyplot as plt\n",
    "from sklearn.datasets import make_regression\n",
    "from sklearn.model_selection import train_test_split\n",
    "from sklearn.metrics import mean_squared_error, r2_score\n",
    "from sklearn.preprocessing import StandardScaler\n",
    "from elastic_net import ElasticNet"
   ]
  },
  {
   "cell_type": "code",
   "execution_count": null,
   "metadata": {},
   "outputs": [],
   "source": [
    "# Generate sample data\n",
    "X, y = make_regression(n_samples=100, n_features=20, noise=0.1, random_state=42)\n",
    "X_train, X_test, y_train, y_test = train_test_split(X, y, test_size=0.2, random_state=42)\n",
    "\n",
    "# Scale the features\n",
    "scaler = StandardScaler()\n",
    "X_train_scaled = scaler.fit_transform(X_train)\n",
    "X_test_scaled = scaler.transform(X_test)"
   ]
  },
  {
   "cell_type": "code",
   "execution_count": null,
   "metadata": {},
   "outputs": [],
   "source": [
    "# Train Elastic Net model\n",
    "elastic_net = ElasticNet(alpha=0.1, l1_ratio=0.5)\n",
    "elastic_net.fit(X_train_scaled, y_train)\n",
    "\n",
    "# Make predictions\n",
    "y_pred = elastic_net.predict(X_test_scaled)\n",
    "\n",
    "# Calculate performance metrics\n",
    "mse = mean_squared_error(y_test, y_pred)\n",
    "r2 = r2_score(y_test, y_pred)\n",
    "\n",
    "print(f\"Mean squared error: {mse:.2f}\")\n",
    "print(f\"R-squared score: {r2:.2f}\")\n",
    "\n",
    "# Check for NaN values\n",
    "if np.isnan(y_pred).any():\n",
    "    print(\"Warning: NaN values in predictions\")\n",
    "else:\n",
    "    print(\"No NaN values in predictions\")"
   ]
  },
  {
   "cell_type": "code",
   "execution_count": null,
   "metadata": {},
   "outputs": [],
   "source": [
    "# Visualize coefficients\n",
    "plt.figure(figsize=(12, 6))\n",
    "plt.bar(range(len(elastic_net.coef_)), elastic_net.coef_)\n",
    "plt.title(\"Elastic Net Coefficients\")\n",
    "plt.xlabel(\"Feature\")\n",
    "plt.ylabel(\"Coefficient Value\")\n",
    "plt.show()"
   ]
  },
  {
   "cell_type": "code",
   "execution_count": null,
   "metadata": {},
   "outputs": [],
   "source": [
    "# Compare different l1_ratio values\n",
    "l1_ratios = [0, 0.25, 0.5, 0.75, 1]\n",
    "mse_scores = []\n",
    "r2_scores = []\n",
    "\n",
    "for l1_ratio in l1_ratios:\n",
    "    model = ElasticNet(alpha=0.1, l1_ratio=l1_ratio)\n",
    "    model.fit(X_train_scaled, y_train)\n",
    "    y_pred = model.predict(X_test_scaled)\n",
    "    mse_scores.append(mean_squared_error(y_test, y_pred))\n",
    "    r2_scores.append(r2_score(y_test, y_pred))\n",
    "\n",
    "plt.figure(figsize=(12, 6))\n",
    "plt.plot(l1_ratios, mse_scores, 'bo-', label='MSE')\n",
    "plt.plot(l1_ratios, r2_scores, 'ro-', label='R2')\n",
    "plt.title(\"Elastic Net Performance vs L1 Ratio\")\n",
    "plt.xlabel(\"L1 Ratio\")\n",
    "plt.ylabel(\"Score\")\n",
    "plt.legend()\n",
    "plt.show()"
   ]
  },
  {
   "cell_type": "code",
   "execution_count": null,
   "metadata": {},
   "outputs": [],
   "source": [
    "# Compare with sklearn's ElasticNet\n",
    "from sklearn.linear_model import ElasticNet as SKElasticNet\n",
    "\n",
    "sk_elastic_net = SKElasticNet(alpha=0.1, l1_ratio=0.5, random_state=42)\n",
    "sk_elastic_net.fit(X_train_scaled, y_train)\n",
    "sk_y_pred = sk_elastic_net.predict(X_test_scaled)\n",
    "\n",
    "sk_mse = mean_squared_error(y_test, sk_y_pred)\n",
    "sk_r2 = r2_score(y_test, sk_y_pred)\n",
    "\n",
    "print(\"Sklearn ElasticNet Results:\")\n",
    "print(f\"Mean squared error: {sk_mse:.2f}\")\n",
    "print(f\"R-squared score: {sk_r2:.2f}\")\n",
    "\n",
    "# Compare coefficients\n",
    "plt.figure(figsize=(12, 6))\n",
    "plt.plot(elastic_net.coef_, 'bo-', label='Our Implementation')\n",
    "plt.plot(sk_elastic_net.coef_, 'ro-', label='Sklearn')\n",
    "plt.title(\"Coefficient Comparison\")\n",
    "plt.xlabel(\"Feature\")\n",
    "plt.ylabel(\"Coefficient Value\")\n",
    "plt.legend()\n",
    "plt.show()"
   ]
  }
 ],
 "metadata": {
  "kernelspec": {
   "display_name": "Python 3",
   "language": "python",
   "name": "python3"
  },
  "language_info": {
   "codemirror_mode": {
    "name": "ipython",
    "version": 3
   },
   "file_extension": ".py",
   "mimetype": "text/x-python",
   "name": "python",
   "nbconvert_exporter": "python",
   "pygments_lexer": "ipython3",
   "version": "3.8.5"
  }
 },
 "nbformat": 4,
 "nbformat_minor": 4
}